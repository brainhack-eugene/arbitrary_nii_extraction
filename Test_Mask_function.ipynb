{
 "cells": [
  {
   "cell_type": "code",
   "execution_count": 1,
   "metadata": {
    "collapsed": false
   },
   "outputs": [],
   "source": [
    "from  urllib.request import urlopen\n",
    "import json\n",
    "import nibabel as nib\n",
    "\n",
    "url = \"http://neurovault.org/api/atlases/\"\n",
    "response = urlopen(url)\n",
    "data = response.read().decode(\"utf-8\")\n",
    "atlases = json.loads(data)\n",
    "\n",
    "%matplotlib inline"
   ]
  },
  {
   "cell_type": "code",
   "execution_count": 2,
   "metadata": {
    "collapsed": false
   },
   "outputs": [
    {
     "name": "stdout",
     "output_type": "stream",
     "text": [
      "JHU ICBM labels 2mm\n",
      "JHU ICBM labels 1mm\n",
      "HarvardOxford sub maxprob thr25 2mm\n",
      "HarvardOxford cort maxprob thr25 2mm\n",
      "HarvardOxford cort maxprob thr25 1mm\n",
      "HarvardOxford sub maxprob thr25 1mm\n",
      "JHU ICBM tracts maxprob thr25 2mm\n",
      "JHU ICBM tracts maxprob thr25 1mm\n",
      "MNI maxprob thr25 1mm\n",
      "MNI maxprob thr25 2mm\n",
      "Juelich maxprob thr25 1mm\n",
      "Juelich maxprob thr25 2mm\n",
      "Thalamus maxprob thr25 2mm\n",
      "Thalamus maxprob thr25 1mm\n",
      "Talairach labels 2mm\n",
      "Talairach labels 1mm\n",
      "AAL2\n",
      "AAL\n"
     ]
    }
   ],
   "source": [
    "for result in atlases['results']:\n",
    "    print(result['name'])"
   ]
  },
  {
   "cell_type": "code",
   "execution_count": 15,
   "metadata": {
    "collapsed": false
   },
   "outputs": [
    {
     "data": {
      "text/plain": [
       "{'add_date': '2016-01-21T17:22:07.618016Z',\n",
       " 'collection': 'http://neurovault.org/collections/262/',\n",
       " 'collection_id': 262,\n",
       " 'data': {},\n",
       " 'data_origin': 'volume',\n",
       " 'description': 'FSL3.3',\n",
       " 'figure': None,\n",
       " 'file': 'http://neurovault.org/media/images/262/HarvardOxford-cort-maxprob-thr25-2mm.nii.gz',\n",
       " 'file_size': 29113,\n",
       " 'id': 1699,\n",
       " 'is_valid': True,\n",
       " 'label_description_file': 'http://neurovault.org/media/images/262/HarvardOxford-cort-maxprob-thr25-2mm.xml',\n",
       " 'modify_date': '2016-01-21T17:22:07.618034Z',\n",
       " 'name': 'HarvardOxford cort maxprob thr25 2mm',\n",
       " 'reduced_representation': 'http://neurovault.org/media/images/262/transform_4mm_1699.npy',\n",
       " 'surface_left_file': None,\n",
       " 'surface_right_file': None,\n",
       " 'thumbnail': 'http://neurovault.org/media/images/262/glass_brain_1699.jpg',\n",
       " 'url': 'http://neurovault.org/images/1699/'}"
      ]
     },
     "execution_count": 15,
     "metadata": {},
     "output_type": "execute_result"
    }
   ],
   "source": [
    "hocort_2mm_idx = next(index for (index, d) in enumerate(atlases[\"results\"]) if d[\"name\"] == \"HarvardOxford cort maxprob thr25 2mm\")\n",
    "atlasinfo = atlases['results'][hocort_2mm_idx]\n",
    "atlasinfo"
   ]
  },
  {
   "cell_type": "code",
   "execution_count": 80,
   "metadata": {
    "collapsed": false
   },
   "outputs": [],
   "source": [
    "urllib.request\n",
    "\n",
    "import os\n",
    "import numpy as np\n",
    "atlas_fname = os.path.abspath('/home/jflournoy/code/arbitrary_nii_extraction/HarvardOxford-cort-maxprob-thr25-2mm.nii.gz')\n",
    "\n",
    "atlas = nib.load(atlas_fname)\n",
    "\n",
    "import matplotlib.pyplot as plt\n",
    "\n",
    "atlas_data = atlas.get_data()"
   ]
  },
  {
   "cell_type": "code",
   "execution_count": 126,
   "metadata": {
    "collapsed": false
   },
   "outputs": [
    {
     "data": {
      "text/plain": [
       "1"
      ]
     },
     "execution_count": 126,
     "metadata": {},
     "output_type": "execute_result"
    }
   ],
   "source": [
    "range(0, 2)[1]"
   ]
  },
  {
   "cell_type": "code",
   "execution_count": 135,
   "metadata": {
    "collapsed": false
   },
   "outputs": [
    {
     "data": {
      "text/plain": [
       "numpy.ndarray"
      ]
     },
     "execution_count": 135,
     "metadata": {},
     "output_type": "execute_result"
    }
   ],
   "source": [
    "type(atlas_data)"
   ]
  },
  {
   "cell_type": "code",
   "execution_count": 132,
   "metadata": {
    "collapsed": false
   },
   "outputs": [],
   "source": [
    "def generate_masks(labeled_image_data, therange = None):\n",
    "    if therange == None:\n",
    "        therange = range(labeled_image_data.min(), labeled_image_data.max()+1)\n",
    "    masks = list()\n",
    "    for i in range(len(therange)):\n",
    "        masks.append(labeled_image_data == therange[i])\n",
    "    return(masks)"
   ]
  },
  {
   "cell_type": "code",
   "execution_count": 134,
   "metadata": {
    "collapsed": false
   },
   "outputs": [],
   "source": [
    "masks = generate_masks(atlas_data)"
   ]
  },
  {
   "cell_type": "markdown",
   "metadata": {},
   "source": []
  }
 ],
 "metadata": {
  "kernelspec": {
   "display_name": "Python [conda env:py3nii]",
   "language": "python",
   "name": "conda-env-py3nii-py"
  },
  "language_info": {
   "codemirror_mode": {
    "name": "ipython",
    "version": 3
   },
   "file_extension": ".py",
   "mimetype": "text/x-python",
   "name": "python",
   "nbconvert_exporter": "python",
   "pygments_lexer": "ipython3",
   "version": "3.6.0"
  }
 },
 "nbformat": 4,
 "nbformat_minor": 2
}

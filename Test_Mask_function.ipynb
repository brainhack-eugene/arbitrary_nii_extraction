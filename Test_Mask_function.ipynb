{
 "cells": [
  {
   "cell_type": "code",
   "execution_count": 61,
   "metadata": {
    "collapsed": false
   },
   "outputs": [],
   "source": [
    "from  urllib.request import urlopen\n",
    "import json\n",
    "import nibabel as nib\n",
    "\n",
    "url = \"http://neurovault.org/api/atlases/\"\n",
    "response = urlopen(url)\n",
    "data = response.read().decode(\"utf-8\")\n",
    "atlases = json.loads(data)"
   ]
  },
  {
   "cell_type": "code",
   "execution_count": 51,
   "metadata": {
    "collapsed": false
   },
   "outputs": [
    {
     "name": "stdout",
     "output_type": "stream",
     "text": [
      "JHU ICBM labels 2mm\n",
      "JHU ICBM labels 1mm\n",
      "HarvardOxford sub maxprob thr25 2mm\n",
      "HarvardOxford cort maxprob thr25 2mm\n",
      "HarvardOxford cort maxprob thr25 1mm\n",
      "HarvardOxford sub maxprob thr25 1mm\n",
      "JHU ICBM tracts maxprob thr25 2mm\n",
      "JHU ICBM tracts maxprob thr25 1mm\n",
      "MNI maxprob thr25 1mm\n",
      "MNI maxprob thr25 2mm\n",
      "Juelich maxprob thr25 1mm\n",
      "Juelich maxprob thr25 2mm\n",
      "Thalamus maxprob thr25 2mm\n",
      "Thalamus maxprob thr25 1mm\n",
      "Talairach labels 2mm\n",
      "Talairach labels 1mm\n",
      "AAL2\n",
      "AAL\n"
     ]
    }
   ],
   "source": [
    "for result in atlases['results']:\n",
    "    print(result['name'])"
   ]
  },
  {
   "cell_type": "code",
   "execution_count": 69,
   "metadata": {
    "collapsed": false
   },
   "outputs": [
    {
     "data": {
      "text/plain": [
       "'http://neurovault.org/media/images/262/HarvardOxford-cort-maxprob-thr25-2mm.nii.gz'"
      ]
     },
     "execution_count": 69,
     "metadata": {},
     "output_type": "execute_result"
    }
   ],
   "source": [
    "hocort_2mm_idx = next(index for (index, d) in enumerate(atlases[\"results\"]) if d[\"name\"] == \"HarvardOxford cort maxprob thr25 2mm\")\n",
    "atlasurl = atlases['results'][hocort_2mm_idx]['file']\n",
    "atlasurl"
   ]
  },
  {
   "cell_type": "code",
   "execution_count": 80,
   "metadata": {
    "collapsed": false
   },
   "outputs": [],
   "source": [
    "import os\n",
    "import numpy as np\n",
    "atlas_fname = os.path.abspath('/home/jflournoy/code/arbitrary_nii_extraction/HarvardOxford-cort-maxprob-thr25-2mm.nii.gz')\n",
    "\n",
    "atlas = nib.load(atlas_fname)\n",
    "\n",
    "import matplotlib.pyplot as plt\n",
    "\n",
    "def show_slices(slices):\n",
    "    \"\"\" Function to display row of image slices \"\"\"\n",
    "    fig, axes = plt.subplots(1, len(slices))\n",
    "    for i, slice in enumerate(slices):\n",
    "        axes[i].imshow(slice.T, cmap=\"gray\", origin=\"lower\")\n",
    "        \n",
    "atlas_data = atlas.get_data()"
   ]
  },
  {
   "cell_type": "code",
   "execution_count": 88,
   "metadata": {
    "collapsed": false
   },
   "outputs": [
    {
     "data": {
      "text/plain": [
       "[<matplotlib.lines.Line2D at 0x7f75de3152e8>,\n",
       " <matplotlib.lines.Line2D at 0x7f75de3154a8>,\n",
       " <matplotlib.lines.Line2D at 0x7f75de3156a0>,\n",
       " <matplotlib.lines.Line2D at 0x7f75de315898>,\n",
       " <matplotlib.lines.Line2D at 0x7f75de315a90>,\n",
       " <matplotlib.lines.Line2D at 0x7f75de315c88>,\n",
       " <matplotlib.lines.Line2D at 0x7f75de315e80>,\n",
       " <matplotlib.lines.Line2D at 0x7f75de3190b8>,\n",
       " <matplotlib.lines.Line2D at 0x7f75de3192b0>,\n",
       " <matplotlib.lines.Line2D at 0x7f75de3194a8>,\n",
       " <matplotlib.lines.Line2D at 0x7f75de3196a0>,\n",
       " <matplotlib.lines.Line2D at 0x7f75de319898>,\n",
       " <matplotlib.lines.Line2D at 0x7f75de319a90>,\n",
       " <matplotlib.lines.Line2D at 0x7f75de319c88>,\n",
       " <matplotlib.lines.Line2D at 0x7f75de319e80>,\n",
       " <matplotlib.lines.Line2D at 0x7f75de3200b8>,\n",
       " <matplotlib.lines.Line2D at 0x7f75de3202b0>,\n",
       " <matplotlib.lines.Line2D at 0x7f75de5df828>,\n",
       " <matplotlib.lines.Line2D at 0x7f75de3205c0>,\n",
       " <matplotlib.lines.Line2D at 0x7f75de320780>,\n",
       " <matplotlib.lines.Line2D at 0x7f75de320940>,\n",
       " <matplotlib.lines.Line2D at 0x7f75de320b38>,\n",
       " <matplotlib.lines.Line2D at 0x7f75de320d30>,\n",
       " <matplotlib.lines.Line2D at 0x7f75de320f28>,\n",
       " <matplotlib.lines.Line2D at 0x7f75de326160>,\n",
       " <matplotlib.lines.Line2D at 0x7f75de326358>,\n",
       " <matplotlib.lines.Line2D at 0x7f75de326550>,\n",
       " <matplotlib.lines.Line2D at 0x7f75de326748>,\n",
       " <matplotlib.lines.Line2D at 0x7f75de326940>,\n",
       " <matplotlib.lines.Line2D at 0x7f75de326b38>,\n",
       " <matplotlib.lines.Line2D at 0x7f75de326d30>,\n",
       " <matplotlib.lines.Line2D at 0x7f75de326f28>,\n",
       " <matplotlib.lines.Line2D at 0x7f75de32a160>,\n",
       " <matplotlib.lines.Line2D at 0x7f75de32a400>,\n",
       " <matplotlib.lines.Line2D at 0x7f75de32a5f8>,\n",
       " <matplotlib.lines.Line2D at 0x7f75de32a7f0>,\n",
       " <matplotlib.lines.Line2D at 0x7f75de32a9e8>,\n",
       " <matplotlib.lines.Line2D at 0x7f75de32abe0>,\n",
       " <matplotlib.lines.Line2D at 0x7f75de32add8>,\n",
       " <matplotlib.lines.Line2D at 0x7f75de32afd0>,\n",
       " <matplotlib.lines.Line2D at 0x7f75de32f208>,\n",
       " <matplotlib.lines.Line2D at 0x7f75de32f400>,\n",
       " <matplotlib.lines.Line2D at 0x7f75de32f5f8>,\n",
       " <matplotlib.lines.Line2D at 0x7f75de32f7f0>,\n",
       " <matplotlib.lines.Line2D at 0x7f75de32f9e8>,\n",
       " <matplotlib.lines.Line2D at 0x7f75de32a198>,\n",
       " <matplotlib.lines.Line2D at 0x7f75de32fd68>,\n",
       " <matplotlib.lines.Line2D at 0x7f75de32ff28>,\n",
       " <matplotlib.lines.Line2D at 0x7f75de335128>,\n",
       " <matplotlib.lines.Line2D at 0x7f75de3352e8>,\n",
       " <matplotlib.lines.Line2D at 0x7f75de3354e0>,\n",
       " <matplotlib.lines.Line2D at 0x7f75de3356d8>,\n",
       " <matplotlib.lines.Line2D at 0x7f75de3358d0>,\n",
       " <matplotlib.lines.Line2D at 0x7f75de335ac8>,\n",
       " <matplotlib.lines.Line2D at 0x7f75de335cc0>,\n",
       " <matplotlib.lines.Line2D at 0x7f75de335eb8>,\n",
       " <matplotlib.lines.Line2D at 0x7f75de33a0f0>,\n",
       " <matplotlib.lines.Line2D at 0x7f75de33a2e8>,\n",
       " <matplotlib.lines.Line2D at 0x7f75de33a470>,\n",
       " <matplotlib.lines.Line2D at 0x7f75de33a668>,\n",
       " <matplotlib.lines.Line2D at 0x7f75de33a860>,\n",
       " <matplotlib.lines.Line2D at 0x7f75de33aa58>,\n",
       " <matplotlib.lines.Line2D at 0x7f75de33ac50>,\n",
       " <matplotlib.lines.Line2D at 0x7f75de33ae48>,\n",
       " <matplotlib.lines.Line2D at 0x7f75de2c0080>,\n",
       " <matplotlib.lines.Line2D at 0x7f75de2c0278>,\n",
       " <matplotlib.lines.Line2D at 0x7f75de2c0470>,\n",
       " <matplotlib.lines.Line2D at 0x7f75de2c0668>,\n",
       " <matplotlib.lines.Line2D at 0x7f75de2c0860>,\n",
       " <matplotlib.lines.Line2D at 0x7f75de2c0a58>,\n",
       " <matplotlib.lines.Line2D at 0x7f75de2c0c50>,\n",
       " <matplotlib.lines.Line2D at 0x7f75de2c0e48>,\n",
       " <matplotlib.lines.Line2D at 0x7f75de2c6080>,\n",
       " <matplotlib.lines.Line2D at 0x7f75de2c6278>,\n",
       " <matplotlib.lines.Line2D at 0x7f75de2c6470>,\n",
       " <matplotlib.lines.Line2D at 0x7f75de2c6668>,\n",
       " <matplotlib.lines.Line2D at 0x7f75de2c6860>,\n",
       " <matplotlib.lines.Line2D at 0x7f75de2c6a58>,\n",
       " <matplotlib.lines.Line2D at 0x7f75de2c6c50>,\n",
       " <matplotlib.lines.Line2D at 0x7f75de2c6e48>,\n",
       " <matplotlib.lines.Line2D at 0x7f75de2ca080>,\n",
       " <matplotlib.lines.Line2D at 0x7f75de2ca278>,\n",
       " <matplotlib.lines.Line2D at 0x7f75de2ca470>,\n",
       " <matplotlib.lines.Line2D at 0x7f75de2ca668>,\n",
       " <matplotlib.lines.Line2D at 0x7f75de2ca860>,\n",
       " <matplotlib.lines.Line2D at 0x7f75de2caa58>,\n",
       " <matplotlib.lines.Line2D at 0x7f75de2cac50>,\n",
       " <matplotlib.lines.Line2D at 0x7f75de2cae48>,\n",
       " <matplotlib.lines.Line2D at 0x7f75de2d1080>,\n",
       " <matplotlib.lines.Line2D at 0x7f75de2d1278>,\n",
       " <matplotlib.lines.Line2D at 0x7f75de2d1470>]"
      ]
     },
     "execution_count": 88,
     "metadata": {},
     "output_type": "execute_result"
    }
   ],
   "source": [
    "fig = plt.plot(atlas_data[26, :, :])\n"
   ]
  },
  {
   "cell_type": "code",
   "execution_count": null,
   "metadata": {
    "collapsed": true
   },
   "outputs": [],
   "source": [
    "mask_file =\n",
    "data_file = \n",
    "timeseries = \n",
    "\n",
    "\n",
    "    #given a list of mask files and data files (copes, preprocessed data, etc)\n",
    "    #returns a data frame of values extracted from those masks\n",
    "    #the column name is taken based on the mask file in the first row (with file extension stripped)\n",
    "   \n",
    "    if len(mask_files) != len(data_files):\n",
    "        print(\"mask and data files don't match!\")\n",
    "        \n",
    "    maskname = mask_files[0].split('/')\n",
    "    maskname = maskname[len(maskname)-1].strip().split('.')[0]\n",
    "    \n",
    "    if timeseries:\n",
    "        tsdata = []\n",
    "    else:\n",
    "        tsdata = pd.Series(data=np.empty(len(mask_files)))\n",
    "        tsdata[:] = np.NAN\n",
    "\n",
    "    \n",
    "    for i,m in enumerate(mask_files):\n",
    "        ts_out_file = tempfile.NamedTemporaryFile()\n",
    "        #nipype wrapper for fslmeants\n",
    "        meants = fsl.ImageMeants()\n",
    "        meants.inputs.in_file = data_files[i]\n",
    "        meants.inputs.mask = os.path.abspath(os.path.expanduser(m))\n",
    "        meants.inputs.out_file = ts_out_file.name\n",
    "        result = meants.run()\n",
    "        \n",
    "        f = open(result.outputs.out_file,'r')\n",
    "        temp = [line.strip() for line in f.readlines()] #remove the newline character \\n\n",
    "        \n",
    "        if timeseries:\n",
    "            tsdata.append(temp)\n",
    "            print('finished file %s' %data_files[i])\n",
    "        else:\n",
    "            tsdata[i] = temp[0]\n",
    "            \n",
    "        f.close()\n",
    "    \n",
    "    if timeseries:\n",
    "        output = tsdata\n",
    "    else:\n",
    "        output = pd.DataFrame(data=tsdata,columns=[maskname])\n",
    "    \n",
    "    return(output)    "
   ]
  }
 ],
 "metadata": {
  "kernelspec": {
   "display_name": "Python [conda env:py3nii]",
   "language": "python",
   "name": "conda-env-py3nii-py"
  },
  "language_info": {
   "codemirror_mode": {
    "name": "ipython",
    "version": 3
   },
   "file_extension": ".py",
   "mimetype": "text/x-python",
   "name": "python",
   "nbconvert_exporter": "python",
   "pygments_lexer": "ipython3",
   "version": "3.6.0"
  }
 },
 "nbformat": 4,
 "nbformat_minor": 2
}

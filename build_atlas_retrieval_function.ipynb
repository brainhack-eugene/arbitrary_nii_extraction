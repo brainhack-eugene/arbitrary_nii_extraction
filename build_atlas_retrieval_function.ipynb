{
 "cells": [
  {
   "cell_type": "code",
   "execution_count": 1,
   "metadata": {
    "collapsed": false
   },
   "outputs": [],
   "source": [
    "import os\n",
    "from  urllib.request import urlopen\n",
    "from urllib.parse import urlparse\n",
    "import json\n",
    "import nibabel as nib\n",
    "import nilearn \n",
    "import pandas\n",
    "from extract_from_masks import *\n",
    "\n",
    "import matplotlib.pyplot as plt\n",
    "%matplotlib inline"
   ]
  },
  {
   "cell_type": "code",
   "execution_count": 2,
   "metadata": {
    "collapsed": false
   },
   "outputs": [],
   "source": [
    "atlas_location = '/home/jflournoy/code/arbitrary_nii_extraction/atlas'\n",
    "data_file = '/home/jflournoy/code/arbitrary_nii_extraction/test_file/Gaebler.nii.gz'\n",
    "update_atlas = True\n",
    "atlas_json_fname = 'atlas_info.json'\n",
    "statistic_arg = 'two_sample_t'\n",
    "outputdir = '/home/jflournoy/code/arbitrary_nii_extraction/output'\n",
    "n = 23\n",
    "prefix = 'effect_sizes'"
   ]
  },
  {
   "cell_type": "code",
   "execution_count": 3,
   "metadata": {
    "collapsed": false
   },
   "outputs": [],
   "source": [
    "def download_nii(url, dl_dir):\n",
    "    parsed_url = urlparse(url)\n",
    "    atlas_fname = os.path.split(parsed_url.path)[1]\n",
    "    save_fname = os.path.join(dl_dir, atlas_fname)\n",
    "    print('Downloading: ' + save_fname)\n",
    "    response = urlopen(url)\n",
    "    CHUNK = 16 * 1024\n",
    "    with open(save_fname, 'wb') as f:\n",
    "        while True:\n",
    "            chunk = response.read(CHUNK)\n",
    "            if not chunk:\n",
    "                break\n",
    "            f.write(chunk)\n",
    "        f.close()\n",
    "    return(save_fname)\n",
    "\n",
    "def update_atlases(which = None, atlas_dir = ''):\n",
    "    url = \"http://neurovault.org/api/atlases/\"\n",
    "    response = urlopen(url)\n",
    "    data = response.read().decode(\"utf-8\")\n",
    "    atlases = json.loads(data)\n",
    "    if (which == None):\n",
    "        i = 0\n",
    "        atlas_list = list()\n",
    "        for result in atlases['results']:\n",
    "            atlas_list.append(result['name'])\n",
    "            print(i, ':', result['name'])\n",
    "            i+=1\n",
    "        raise ValueError('Please supply the index (as above) of the atlas you wish to update, or \"all\"')\n",
    "    elif (which == 'all'):\n",
    "        assert os.path.isdir(atlas_dir), 'Directory does not exist'\n",
    "        for result in atlases['results']:\n",
    "            local_fname = download_nii(url = result['file'], dl_dir = atlas_dir)\n",
    "            \n",
    "            result['local_file'] = local_fname\n",
    "        json_fname = os.path.join(atlas_dir, atlas_json_fname)\n",
    "        with open(json_fname, 'w') as f:\n",
    "            json.dump(atlases, f)\n",
    "            f.close()     \n",
    "\n",
    "def get_atlas_fname(which = None, atlas_dir = ''):\n",
    "    atlas_json_fullpath = os.path.join(atlas_dir, atlas_json_fname)\n",
    "    assert os.path.isfile(atlas_json_fullpath), 'Atlas info doesn\\'t exist. Run with --update_atlases?'\n",
    "    with open(atlas_json_fullpath) as json_file:\n",
    "        atlases = json.load(json_file)\n",
    "        json_file.close()\n",
    "    #Build list of atlases\n",
    "    if (which == None):\n",
    "        print('\\n'.join([str(i) + ': ' + x['name'] for i, x in enumerate(atlases['results'])]))\n",
    "        raise ValueError('Please supply the index (as above) of the atlas you wish to update, or \"all\"')\n",
    "    atlas_fname = atlases['results'][which]['local_file']\n",
    "    return(atlas_fname)\n",
    "\n",
    "def apply_arbitrary_function(the_voxels_dict, theFunction):\n",
    "    #the_voxels is a dict with a key that is a label for each mask and value that is an array of voxels\n",
    "    #theFunction is a function that takes an array and returns a dictionary of summary statistics\n",
    "    parcel_stats = dict()\n",
    "    for k, the_voxels in the_voxels_dict.items():\n",
    "        stats_dict = theFunction(the_voxels)\n",
    "        parcel_stats[k] = stats_dict\n",
    "    return(parcel_stats)\n",
    "\n",
    "def save_stats_to_brains(atlas, raw_brain, stats, prefix, outdir):\n",
    "    atlas_brain_data = atlas.get_data()\n",
    "    raw_brain_data = raw_brain.get_data()\n",
    "    stat_keys = stats[labels[0]]\n",
    "    final_brains = dict()\n",
    "    for stat in stat_keys:\n",
    "        for label in stats_per_parcel:\n",
    "            raw_brain_data[atlas_brain_data == label] = stats[label][stat]\n",
    "        anewimage = nilearn.image.copy_img(nilearn.image.new_img_like(raw_brain, raw_brain_data))\n",
    "        final_brains[stat] = anewimage\n",
    "        final_brains[stat].to_filename(filename=os.path.join(outdir, prefix+'_'+stat+'.nii'))\n",
    "    return(final_brains)\n",
    "\n",
    "#These kinds of functions should always return a dictionary that\n",
    "#names the statistic as the key, which is paired with the value\n",
    "def eff_size_2grp_t_gen(sample_size):\n",
    "    #Sample size should be sample size per group\n",
    "    def eff_size_2grp_t(t_stats):\n",
    "        import numpy as np\n",
    "        #d = t * (sqrt(2/n)) via http://jakewestfall.org/blog/index.php/2016/03/25/five-different-cohens-d-statistics-for-within-subject-designs/\n",
    "        d = t_stats * (2/sample_size)**(.5)\n",
    "        return({'d_mean': np.mean(d), 'd_std': np.std(d)})\n",
    "    return(eff_size_2grp_t)"
   ]
  },
  {
   "cell_type": "code",
   "execution_count": 4,
   "metadata": {
    "collapsed": false
   },
   "outputs": [
    {
     "name": "stderr",
     "output_type": "stream",
     "text": [
      "/home/jflournoy/miniconda3/envs/py3nii/lib/python3.6/site-packages/scipy/ndimage/interpolation.py:430: UserWarning: The behaviour of affine_transform with a one-dimensional array supplied for the matrix parameter has changed in scipy 0.18.0.\n",
      "  \"The behaviour of affine_transform with a one-dimensional \"\n"
     ]
    }
   ],
   "source": [
    "atlas_fname = get_atlas_fname(which = 3, atlas_dir = atlas_location)\n",
    "masks, labels = generate_masks(atlas_fname)\n",
    "an_img_file = nib.load(data_file)\n",
    "an_img_file_resamp = nilearn.image.resample_to_img(source_img=an_img_file, target_img=masks[0], interpolation='nearest')\n",
    "voxels_from_masks = extract_from_masks(masks, an_img_file_resamp, masknames=labels)\n",
    "if statistic_arg == 'two_sample_t':\n",
    "    theFunction = eff_size_2grp_t_gen(n)\n",
    "stats_per_parcel = apply_arbitrary_function(voxels_from_masks, theFunction)\n",
    "atlas_brain = nib.load(atlas_fname)\n",
    "final_brains = save_stats_to_brains(atlas_brain, an_img_file_resamp, stats_per_parcel, prefix, outputdir)"
   ]
  },
  {
   "cell_type": "code",
   "execution_count": 5,
   "metadata": {
    "collapsed": false
   },
   "outputs": [
    {
     "name": "stderr",
     "output_type": "stream",
     "text": [
      "/home/jflournoy/miniconda3/envs/py3nii/lib/python3.6/site-packages/sklearn/cross_validation.py:44: DeprecationWarning: This module was deprecated in version 0.18 in favor of the model_selection module into which all the refactored classes and functions are moved. Also note that the interface of the new CV iterators are different from that of this module. This module will be removed in 0.20.\n",
      "  \"This module will be removed in 0.20.\", DeprecationWarning)\n"
     ]
    }
   ],
   "source": [
    "from nilearn import plotting"
   ]
  },
  {
   "cell_type": "code",
   "execution_count": 6,
   "metadata": {
    "collapsed": false
   },
   "outputs": [
    {
     "name": "stderr",
     "output_type": "stream",
     "text": [
      "/home/jflournoy/miniconda3/envs/py3nii/lib/python3.6/site-packages/matplotlib/cbook.py:136: MatplotlibDeprecationWarning: The axisbg attribute was deprecated in version 2.0. Use facecolor instead.\n",
      "  warnings.warn(message, mplDeprecation, stacklevel=1)\n"
     ]
    },
    {
     "data": {
      "image/png": "[encoded data removed]",
      "text/plain": [
       "<matplotlib.figure.Figure at 0x7fc16ef2f3c8>"
      ]
     },
     "metadata": {},
     "output_type": "display_data"
    },
    {
     "data": {
      "image/png": "[encoded data removed]",
      "text/plain": [
       "<matplotlib.figure.Figure at 0x7fc171e11ba8>"
      ]
     },
     "metadata": {},
     "output_type": "display_data"
    }
   ],
   "source": [
    "for k, v in final_brains.items():\n",
    "    plotting.plot_img(v, title=k)"
   ]
  },
  {
   "cell_type": "code",
   "execution_count": 7,
   "metadata": {
    "collapsed": false
   },
   "outputs": [],
   "source": [
    "stats_table = pandas.DataFrame.from_dict(stats_per_parcel, orient = 'index')\n",
    "stats_table.to_csv(os.path.join(outputdir, prefix+'_parcel_estimates.csv'))"
   ]
  },
  {
   "cell_type": "code",
   "execution_count": null,
   "metadata": {
    "collapsed": true
   },
   "outputs": [],
   "source": []
  }
 ],
 "metadata": {
  "anaconda-cloud": {},
  "kernelspec": {
   "display_name": "Python [conda env:py3nii]",
   "language": "python",
   "name": "conda-env-py3nii-py"
  },
  "language_info": {
   "codemirror_mode": {
    "name": "ipython",
    "version": 3
   },
   "file_extension": ".py",
   "mimetype": "text/x-python",
   "name": "python",
   "nbconvert_exporter": "python",
   "pygments_lexer": "ipython3",
   "version": "3.6.0"
  }
 },
 "nbformat": 4,
 "nbformat_minor": 1
}
